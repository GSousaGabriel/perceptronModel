{
 "cells": [
  {
   "cell_type": "code",
   "execution_count": 1,
   "metadata": {},
   "outputs": [],
   "source": [
    "import cv2"
   ]
  },
  {
   "cell_type": "code",
   "execution_count": 2,
   "metadata": {},
   "outputs": [],
   "source": [
    "def reset():\n",
    "    global pt1, pt2, topLeft_clicked, botRight_clicked\n",
    "    \n",
    "    pt1= (0,0)\n",
    "    pt2= (0,0)\n",
    "    topLeft_clicked= False\n",
    "    botRight_clicked= False"
   ]
  },
  {
   "cell_type": "code",
   "execution_count": 3,
   "metadata": {},
   "outputs": [],
   "source": [
    "def draw_rectangle(event, x, y, flags, param):\n",
    "    global pt1, pt2, topLeft_clicked, botRight_clicked\n",
    "    \n",
    "    \n",
    "    if event == cv2.EVENT_LBUTTONDOWN:\n",
    "        print(topLeft_clicked, botRight_clicked)\n",
    "        if topLeft_clicked and botRight_clicked:\n",
    "            reset()\n",
    "            print('reset')\n",
    "            return\n",
    "    \n",
    "        if not topLeft_clicked:\n",
    "            pt1 = (x,y)\n",
    "            topLeft_clicked= True\n",
    "        elif not botRight_clicked:\n",
    "            pt2 = (x,y)\n",
    "            botRight_clicked= True\n",
    "    "
   ]
  },
  {
   "cell_type": "code",
   "execution_count": 4,
   "metadata": {},
   "outputs": [],
   "source": [
    "cap= cv2.VideoCapture(0)\n",
    "cv2.namedWindow('Test')\n",
    "cv2.setMouseCallback('Test', draw_rectangle)\n",
    "width = int(cap.get(cv2.CAP_PROP_FRAME_WIDTH))\n",
    "height = int(cap.get(cv2.CAP_PROP_FRAME_HEIGHT))\n",
    "pt1= (0,0)\n",
    "pt2= (0,0)\n",
    "topLeft_clicked= False\n",
    "botRight_clicked= False\n",
    "\n",
    "\n",
    "#x= width//2\n",
    "#y= height//2\n",
    "\n",
    "#width and height of the rectangle\n",
    "#w= width //4\n",
    "#h= height//4\n",
    "\n",
    "#bottom\n"
   ]
  },
  {
   "cell_type": "code",
   "execution_count": 5,
   "metadata": {},
   "outputs": [
    {
     "name": "stdout",
     "output_type": "stream",
     "text": [
      "False False\n",
      "True False\n",
      "True True\n",
      "reset\n",
      "False False\n",
      "True False\n",
      "True True\n",
      "reset\n",
      "False False\n",
      "True False\n",
      "True True\n",
      "reset\n",
      "False False\n",
      "True False\n",
      "True True\n",
      "reset\n",
      "False False\n",
      "True False\n",
      "True True\n",
      "reset\n",
      "False False\n",
      "True False\n",
      "True True\n",
      "reset\n"
     ]
    }
   ],
   "source": [
    "while True:\n",
    "    ret, frame= cap.read()\n",
    "    \n",
    "    #cv2.rectangle(frame, (x,y), (x+w, y+h), (0,0,255), 4)\n",
    "    if topLeft_clicked:\n",
    "        cv2.circle(frame, pt1, 5,(0,0,255), -1)\n",
    "        \n",
    "    if topLeft_clicked and botRight_clicked:\n",
    "        cv2.rectangle(frame, pt1, pt2, (255,0,0), 4)\n",
    "    \n",
    "    cv2.imshow('Test', frame)\n",
    "    \n",
    "    if cv2.waitKey(1) & 0xFF == ord('q'):\n",
    "        break\n",
    "    \n",
    "cap.release()\n",
    "cv2.destroyAllWindows()"
   ]
  }
 ],
 "metadata": {
  "kernelspec": {
   "display_name": ".venv",
   "language": "python",
   "name": "python3"
  },
  "language_info": {
   "codemirror_mode": {
    "name": "ipython",
    "version": 3
   },
   "file_extension": ".py",
   "mimetype": "text/x-python",
   "name": "python",
   "nbconvert_exporter": "python",
   "pygments_lexer": "ipython3",
   "version": "3.11.5"
  }
 },
 "nbformat": 4,
 "nbformat_minor": 2
}
